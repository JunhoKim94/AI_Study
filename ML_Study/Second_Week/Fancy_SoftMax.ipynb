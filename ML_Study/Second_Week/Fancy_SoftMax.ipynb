{
 "cells": [
  {
   "cell_type": "code",
   "execution_count": 18,
   "metadata": {},
   "outputs": [],
   "source": [
    "import tensorflow as tf\n",
    "import numpy as np\n",
    "import pandas as pd"
   ]
  },
  {
   "cell_type": "code",
   "execution_count": 19,
   "metadata": {},
   "outputs": [],
   "source": [
    "xy = np.loadtxt(\"./data-04-zoo.csv\", delimiter = ',', dtype = np.float32)\n",
    "x_data = xy[:,0:-1]\n",
    "y_data = xy[:,[-1]]"
   ]
  },
  {
   "cell_type": "code",
   "execution_count": 20,
   "metadata": {},
   "outputs": [],
   "source": [
    "#number of feature\n",
    "num = 16\n",
    "#number of outputs\n",
    "nb_classes = 7\n",
    "\n",
    "X = tf.placeholder(tf.float32,[None,num])\n",
    "Y = tf.placeholder(tf.int32,[None,1])\n",
    "\n",
    "Y_one_hot = tf.one_hot(Y,nb_classes) # shape =(?,1,7)\n",
    "#after one_hot dimension goes high so should reshape the one_hot\n",
    "Y_one_hot = tf.reshape(Y_one_hot,[-1,nb_classes]) #shape = (?,7)\n",
    "\n",
    "W = tf.Variable(tf.random_normal([num,nb_classes]),name = 'weight')\n",
    "b = tf.Variable(tf.random_normal([nb_classes]),name = 'bias')\n",
    "\n",
    "logits = tf.matmul(X,W) + b\n",
    "hypothesis = tf.nn.softmax(logits)\n",
    "\n",
    "cost_i = tf.nn.softmax_cross_entropy_with_logits(logits=logits, labels = Y_one_hot)\n",
    "cost = tf.reduce_mean(cost_i)\n",
    "#cost = tf.reduce_mean(-tf.reduce_sum(Y*tf.log(hypothesis), axis = 1))\n",
    "\n",
    "optimizer = tf.train.GradientDescentOptimizer(learning_rate = 0.1).minimize(cost)\n",
    "\n",
    "prediction = tf.argmax(hypothesis,1)\n",
    "correct_prediction = tf.equal(prediction, tf.argmax(Y_one_hot,1))\n",
    "accuracy = tf.reduce_mean(tf.cast(correct_prediction,tf.float32))"
   ]
  },
  {
   "cell_type": "code",
   "execution_count": 22,
   "metadata": {},
   "outputs": [
    {
     "name": "stdout",
     "output_type": "stream",
     "text": [
      "3.8084235 0.17821783\n",
      "0.45530686 0.8712871\n",
      "0.29777464 0.9405941\n",
      "0.21953349 0.95049506\n",
      "0.17129335 0.96039605\n",
      "0.13842118 0.96039605\n",
      "0.11484323 0.990099\n",
      "0.09741655 0.990099\n",
      "0.08422277 1.0\n",
      "0.07400427 1.0\n"
     ]
    }
   ],
   "source": [
    "with tf.Session() as sess:\n",
    "    sess.run(tf.global_variables_initializer())\n",
    "    \n",
    "    for step in range(2000):\n",
    "        sess.run(optimizer,feed_dict = {X:x_data,Y:y_data})\n",
    "        if step % 200 ==0:\n",
    "            loss,acc = sess.run([cost,accuracy], feed_dict = {X:x_data,Y:y_data})\n",
    "            print(loss,acc)"
   ]
  },
  {
   "cell_type": "code",
   "execution_count": 11,
   "metadata": {},
   "outputs": [
    {
     "name": "stdout",
     "output_type": "stream",
     "text": [
      "[[1. 0. 0.]\n",
      " [0. 1. 0.]\n",
      " [0. 0. 1.]]\n"
     ]
    }
   ],
   "source": [
    "x = [0,1,2]\n",
    "x = tf.one_hot(x,depth = 3).eval(session=sess)\n",
    "print(x)"
   ]
  },
  {
   "cell_type": "code",
   "execution_count": null,
   "metadata": {},
   "outputs": [],
   "source": []
  }
 ],
 "metadata": {
  "kernelspec": {
   "display_name": "Python 3",
   "language": "python",
   "name": "python3"
  },
  "language_info": {
   "codemirror_mode": {
    "name": "ipython",
    "version": 3
   },
   "file_extension": ".py",
   "mimetype": "text/x-python",
   "name": "python",
   "nbconvert_exporter": "python",
   "pygments_lexer": "ipython3",
   "version": "3.6.4"
  }
 },
 "nbformat": 4,
 "nbformat_minor": 2
}

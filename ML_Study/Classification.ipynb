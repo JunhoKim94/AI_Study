{
 "cells": [
  {
   "cell_type": "code",
   "execution_count": 170,
   "metadata": {},
   "outputs": [],
   "source": [
    "import tensorflow as tf\n",
    "import pandas as pd\n",
    "import numpy as np\n",
    "from sklearn.preprocessing import MinMaxScaler\n",
    "\n",
    "tf.set_random_seed(777)"
   ]
  },
  {
   "cell_type": "code",
   "execution_count": 171,
   "metadata": {},
   "outputs": [
    {
     "data": {
      "text/plain": [
       "array([[  0.,  63.,   1., ...,   0.,   2.,   1.],\n",
       "       [  1.,  67.,   1., ...,   3.,   0.,   0.],\n",
       "       [  2.,  67.,   1., ...,   2.,   1.,   0.],\n",
       "       ...,\n",
       "       [232.,  44.,   1., ...,   0.,   2.,   0.],\n",
       "       [233.,  63.,   1., ...,   2.,   1.,   0.],\n",
       "       [234.,  63.,   0., ...,   0.,   0.,   0.]])"
      ]
     },
     "execution_count": 171,
     "metadata": {},
     "output_type": "execute_result"
    }
   ],
   "source": [
    "a = np.array(pd.read_csv(\"./heart.csv\"))\n",
    "a"
   ]
  },
  {
   "cell_type": "code",
   "execution_count": 172,
   "metadata": {},
   "outputs": [],
   "source": [
    "scaler = MinMaxScaler(feature_range=(0,1))\n",
    "for i in range(1,len(a[0,:])):\n",
    "    a[:,i] = a[:,i]/np.mean(a[:,i])\n",
    "a = scaler.fit_transform(a)"
   ]
  },
  {
   "cell_type": "code",
   "execution_count": 173,
   "metadata": {},
   "outputs": [],
   "source": [
    "data = np.array(a)\n",
    "x_data = data[:,1:-1]\n",
    "y_data = data[:,-1]\n",
    "'''\n",
    "for i in range(len(y_data)):\n",
    "    if y_data[i] == 'No':\n",
    "        y_data[i] = 0.0\n",
    "    else:\n",
    "        y_data[i] = 1.0\n",
    "'''\n",
    "y_data = y_data.reshape(235,1)\n",
    "x_data = np.array(x_data,dtype=np.float32)"
   ]
  },
  {
   "cell_type": "code",
   "execution_count": 174,
   "metadata": {},
   "outputs": [],
   "source": [
    "b = np.array(pd.read_csv(\"./heart_test.csv\"))\n",
    "for i in range(1,len(b[0,:])):\n",
    "    b[:,i] = b[:,i]/np.mean(b[:,i])\n",
    "b = scaler.fit_transform(b)\n",
    "\n",
    "x_test = b[:,1:-1]\n",
    "y_test = b[:,-1]\n",
    "'''\n",
    "for i in range(len(y_data)):\n",
    "    if y_data[i] == 'No':\n",
    "        y_data[i] = 0.0\n",
    "    else:\n",
    "        y_data[i] = 1.0\n",
    "'''\n",
    "y_test = y_test.reshape(57,1)\n",
    "x_test = np.array(x_test,dtype=np.float32)"
   ]
  },
  {
   "cell_type": "code",
   "execution_count": 175,
   "metadata": {},
   "outputs": [],
   "source": [
    "num = 13\n",
    "X = tf.placeholder(tf.float32,[None,num])\n",
    "Y = tf.placeholder(tf.float32,[None,1])"
   ]
  },
  {
   "cell_type": "code",
   "execution_count": 176,
   "metadata": {},
   "outputs": [],
   "source": [
    "W = tf.Variable(tf.random_normal([num,1]),name = 'weight')\n",
    "b = tf.Variable(tf.random_normal([1]),name = 'bias')"
   ]
  },
  {
   "cell_type": "code",
   "execution_count": 177,
   "metadata": {},
   "outputs": [],
   "source": [
    "hypothesis = tf.sigmoid(tf.matmul(X,W)+b)\n",
    "#hypothesis = tf.nn.softmax(tf.matmul(X,W)+b)\n",
    "cost = -tf.reduce_mean(Y*tf.log(hypothesis)+(1-Y)*tf.log(1-hypothesis))\n",
    "#cost = tf.reduce_mean(-tf.reduce_sum(Y * tf.log(hypothesis)))\n",
    "optimizer = tf.train.GradientDescentOptimizer(learning_rate=0.1).minimize(cost)\n",
    "\n",
    "predicted = tf.cast(hypothesis >0.5,dtype=tf.float32)\n",
    "accuracy = tf.reduce_mean(tf.cast(tf.equal(predicted,Y),tf.float32))"
   ]
  },
  {
   "cell_type": "code",
   "execution_count": 178,
   "metadata": {},
   "outputs": [
    {
     "name": "stdout",
     "output_type": "stream",
     "text": [
      "0 [1.8267897]\n",
      "2000 [0.36884573]\n",
      "4000 [0.36287785]\n",
      "6000 [0.36079323]\n",
      "8000 [0.3598568]\n",
      "10000 [0.35938904]\n",
      "12000 [0.35913894]\n",
      "14000 [0.35899925]\n",
      "16000 [0.35891876]\n",
      "18000 [0.35887158]\n",
      "20000 [0.35884368]\n",
      "[0.24561404]\n",
      "[0.82978725]\n"
     ]
    }
   ],
   "source": [
    "with tf.Session() as sess:\n",
    "    sess.run(tf.global_variables_initializer())\n",
    "    for step in range(20001):\n",
    "        sess.run(optimizer, feed_dict= {X:x_data,Y:y_data})\n",
    "        if step %2000 ==0:\n",
    "            print(step, sess.run([cost],feed_dict={X:x_data,Y:y_data}))\n",
    "    print(sess.run([accuracy],feed_dict={X:x_test,Y:y_test}))\n",
    "    print(sess.run([accuracy],feed_dict={X:x_data,Y:y_data}))"
   ]
  },
  {
   "cell_type": "code",
   "execution_count": null,
   "metadata": {},
   "outputs": [],
   "source": []
  }
 ],
 "metadata": {
  "kernelspec": {
   "display_name": "Python 3",
   "language": "python",
   "name": "python3"
  },
  "language_info": {
   "codemirror_mode": {
    "name": "ipython",
    "version": 3
   },
   "file_extension": ".py",
   "mimetype": "text/x-python",
   "name": "python",
   "nbconvert_exporter": "python",
   "pygments_lexer": "ipython3",
   "version": "3.6.4"
  }
 },
 "nbformat": 4,
 "nbformat_minor": 2
}

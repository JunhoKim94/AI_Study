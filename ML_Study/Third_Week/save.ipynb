{
 "cells": [
  {
   "cell_type": "code",
   "execution_count": 1,
   "metadata": {},
   "outputs": [],
   "source": [
    "import numpy as np\n",
    "import os"
   ]
  },
  {
   "cell_type": "code",
   "execution_count": 4,
   "metadata": {},
   "outputs": [
    {
     "name": "stdout",
     "output_type": "stream",
     "text": [
      "lvtemporary_10872.tmp\n",
      "lvtemporary_134392.tmp\n",
      "lvtemporary_179763.tmp\n",
      "lvtemporary_207263.tmp\n",
      "lvtemporary_263851.tmp\n",
      "lvtemporary_286997.tmp\n",
      "lvtemporary_364009.tmp\n",
      "lvtemporary_39272.tmp\n",
      "lvtemporary_454376.tmp\n",
      "lvtemporary_506224.tmp\n",
      "lvtemporary_512592.tmp\n",
      "lvtemporary_567251.tmp\n",
      "lvtemporary_633990.tmp\n",
      "lvtemporary_693995.tmp\n",
      "lvtemporary_699752.tmp\n",
      "lvtemporary_832138.tmp\n",
      "lvtemporary_845132.tmp\n",
      "lvtemporary_878486.tmp\n",
      "lvtemporary_944562.tmp\n",
      "lvtemporary_970744.tmp\n"
     ]
    }
   ],
   "source": [
    "i = 0\n",
    "for (path,dir,files) in os.walk(\"C:/Users/user/AppData/Local/Temp\"):\n",
    "    for filename in files:\n",
    "        ext = os.path.splitext(filename)[-1]\n",
    "        if ext == '.tmp':\n",
    "            i = i+1\n",
    "            print(filename)\n",
    "            aa = np.loadtxt(\"C:/Users/user/AppData/Local/Temp/\" + filename,dtype = np.uint8)\n",
    "            np.savetxt(\"C:/Users/user/NIT_VisSW_v2_1/Case_1 to 4/Case1/peak%d.csv\"%(80+i),aa,fmt='%d', delimiter = \",\")"
   ]
  },
  {
   "cell_type": "code",
   "execution_count": 8,
   "metadata": {},
   "outputs": [],
   "source": [
    "x = np.eye(5)\n",
    "aa = np.array([1,2,2,2,1,2,0])"
   ]
  },
  {
   "cell_type": "code",
   "execution_count": 10,
   "metadata": {},
   "outputs": [
    {
     "data": {
      "text/plain": [
       "array([[0., 1., 0., 0., 0.],\n",
       "       [0., 0., 1., 0., 0.],\n",
       "       [0., 0., 1., 0., 0.],\n",
       "       [0., 0., 1., 0., 0.],\n",
       "       [0., 1., 0., 0., 0.],\n",
       "       [0., 0., 1., 0., 0.],\n",
       "       [1., 0., 0., 0., 0.]])"
      ]
     },
     "execution_count": 10,
     "metadata": {},
     "output_type": "execute_result"
    }
   ],
   "source": [
    "x[aa[:]]"
   ]
  },
  {
   "cell_type": "code",
   "execution_count": null,
   "metadata": {},
   "outputs": [],
   "source": []
  }
 ],
 "metadata": {
  "kernelspec": {
   "display_name": "Python 3",
   "language": "python",
   "name": "python3"
  },
  "language_info": {
   "codemirror_mode": {
    "name": "ipython",
    "version": 3
   },
   "file_extension": ".py",
   "mimetype": "text/x-python",
   "name": "python",
   "nbconvert_exporter": "python",
   "pygments_lexer": "ipython3",
   "version": "3.6.4"
  }
 },
 "nbformat": 4,
 "nbformat_minor": 2
}

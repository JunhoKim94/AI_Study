{
 "cells": [
  {
   "cell_type": "code",
   "execution_count": 3,
   "metadata": {},
   "outputs": [],
   "source": [
    "import cv2"
   ]
  },
  {
   "cell_type": "code",
   "execution_count": 12,
   "metadata": {},
   "outputs": [],
   "source": [
    "def show_video():\n",
    "    video=\"./video/pre_lane.avi\"\n",
    "    cam = cv2.VideoCapture(0)\n",
    "    cam.set(3,1920)\n",
    "    cam.set(4,1080)\n",
    "    \n",
    "    while True:\n",
    "        ret, img = cam.read()\n",
    "        if not ret:\n",
    "            print('비디오 끝')\n",
    "            break\n",
    "        cv2.imshow(\"zzz\",img)\n",
    "        \n",
    "        if cv2.waitKey(1) & 0xFF == 27:\n",
    "            break        \n",
    "\n",
    "    cam.release()\n",
    "    cv2.destroyAllWindows()"
   ]
  },
  {
   "cell_type": "code",
   "execution_count": 13,
   "metadata": {},
   "outputs": [],
   "source": [
    "if __name__ == \"__main__\":\n",
    "    show_video()"
   ]
  },
  {
   "cell_type": "code",
   "execution_count": null,
   "metadata": {},
   "outputs": [],
   "source": []
  }
 ],
 "metadata": {
  "kernelspec": {
   "display_name": "Python 3",
   "language": "python",
   "name": "python3"
  },
  "language_info": {
   "codemirror_mode": {
    "name": "ipython",
    "version": 3
   },
   "file_extension": ".py",
   "mimetype": "text/x-python",
   "name": "python",
   "nbconvert_exporter": "python",
   "pygments_lexer": "ipython3",
   "version": "3.6.4"
  }
 },
 "nbformat": 4,
 "nbformat_minor": 2
}

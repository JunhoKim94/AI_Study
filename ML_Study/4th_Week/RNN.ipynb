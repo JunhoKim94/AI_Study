{
 "cells": [
  {
   "cell_type": "code",
   "execution_count": 1,
   "metadata": {},
   "outputs": [],
   "source": [
    "import tensorflow as tf\n",
    "import numpy as np\n",
    "from tensorflow.contrib import rnn\n",
    "import pprint\n",
    "pp = pprint.PrettyPrinter(indent=4)\n",
    "sess = tf.InteractiveSession()\n",
    "tf.set_random_seed(777)"
   ]
  },
  {
   "cell_type": "code",
   "execution_count": 2,
   "metadata": {},
   "outputs": [],
   "source": [
    "hidden_size = 5\n",
    "input_dim = 5\n",
    "batch_size = 1\n",
    "sequence_length = 6"
   ]
  },
  {
   "cell_type": "code",
   "execution_count": 3,
   "metadata": {},
   "outputs": [],
   "source": [
    "#string 데이터를 one-hot 인코딩을 통해 변형\n",
    "h = [1, 0, 0, 0, 0] #0\n",
    "i = [0, 1, 0, 0, 0] #1\n",
    "e = [0, 0, 1, 0, 0] #2\n",
    "l = [0, 0, 0, 1, 0] #3\n",
    "o = [0, 0, 0, 0, 1] #4\n",
    "\"hihello\"\n",
    "x_data = [[0,1,0,2,3,3]]\n",
    "x_one_hot = np.eye(5)[[x_data]] # onehot encoding 방법 shape = (data x 6 x 5) \n",
    "y_data = [[1,0,2,3,3,4]] # shape = data x 6\n",
    "\n",
    "X = tf.placeholder(tf.float32,[None,sequence_length,input_dim])\n",
    "Y = tf.placeholder(tf.int32,[None,sequence_length])"
   ]
  },
  {
   "cell_type": "code",
   "execution_count": 4,
   "metadata": {},
   "outputs": [
    {
     "name": "stdout",
     "output_type": "stream",
     "text": [
      "WARNING:tensorflow:From <ipython-input-4-a6a4063cf8c4>:1: BasicLSTMCell.__init__ (from tensorflow.python.ops.rnn_cell_impl) is deprecated and will be removed in a future version.\n",
      "Instructions for updating:\n",
      "This class is deprecated, please use tf.nn.rnn_cell.LSTMCell, which supports all the feature this cell currently has. Please replace the existing code with tf.nn.rnn_cell.LSTMCell(name='basic_lstm_cell').\n"
     ]
    }
   ],
   "source": [
    "cell = tf.contrib.rnn.BasicLSTMCell(num_units = hidden_size,state_is_tuple=True)"
   ]
  },
  {
   "cell_type": "code",
   "execution_count": 5,
   "metadata": {},
   "outputs": [],
   "source": [
    "initial_state = cell.zero_state(batch_size,tf.float32) # 0로 초기화"
   ]
  },
  {
   "cell_type": "code",
   "execution_count": 6,
   "metadata": {},
   "outputs": [],
   "source": [
    "outputs, _states = tf.nn.dynamic_rnn(cell, X, initial_state = initial_state, dtype = tf.float32)"
   ]
  },
  {
   "cell_type": "code",
   "execution_count": null,
   "metadata": {},
   "outputs": [],
   "source": [
    "y_data = tf.constant([[1,1,1]])\n",
    "\n",
    "prediction = tf.constant([[[0.2,0.7],[0.6,0.2],[0.2,0.9]]],dtype = tf.float32)\n",
    "\n",
    "weight = tf.constant([[1,1,1]],dtype = tf.float32)\n",
    "\n",
    "sequence_loss = tf.conrib.seq2seq.sequence_loss(logits = prediction, targets = y_data, weights = weights)\n",
    "\n",
    "sess.run(tf.global_variables())"
   ]
  },
  {
   "cell_type": "code",
   "execution_count": 26,
   "metadata": {},
   "outputs": [
    {
     "data": {
      "text/plain": [
       "array([[1, 2, 3, 4]])"
      ]
     },
     "execution_count": 26,
     "metadata": {},
     "output_type": "execute_result"
    }
   ],
   "source": [
    "x = [1,2,3,4]\n",
    "np.expand_dims(x,0)"
   ]
  },
  {
   "cell_type": "code",
   "execution_count": 30,
   "metadata": {},
   "outputs": [
    {
     "name": "stdout",
     "output_type": "stream",
     "text": [
      "(1, 11, 6)\n",
      "(2, 22, 7)\n",
      "(3, 33, 8)\n",
      "(4, 44, 9)\n"
     ]
    }
   ],
   "source": [
    "x = [1,2,3,4]\n",
    "y = [11,22,33,44]\n",
    "theta = [6,7,8,9]\n",
    "\n",
    "for i in zip(x,y,theta):\n",
    "    print(i)"
   ]
  },
  {
   "cell_type": "code",
   "execution_count": null,
   "metadata": {},
   "outputs": [],
   "source": []
  }
 ],
 "metadata": {
  "kernelspec": {
   "display_name": "Python 3",
   "language": "python",
   "name": "python3"
  },
  "language_info": {
   "codemirror_mode": {
    "name": "ipython",
    "version": 3
   },
   "file_extension": ".py",
   "mimetype": "text/x-python",
   "name": "python",
   "nbconvert_exporter": "python",
   "pygments_lexer": "ipython3",
   "version": "3.6.4"
  }
 },
 "nbformat": 4,
 "nbformat_minor": 2
}
